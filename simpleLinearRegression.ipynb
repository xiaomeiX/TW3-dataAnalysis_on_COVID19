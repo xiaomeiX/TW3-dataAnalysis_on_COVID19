{
 "cells": [
  {
   "cell_type": "markdown",
   "metadata": {},
   "source": [
    "### TW3: Exploratory Data Analysis on COVID-19 Datasets\n",
    "\n",
    "\n",
    "### Learning the data using visualization and simple linear regression\n",
    "\n",
    "1. First, run the example and understand the ML process and be familir with Python package functions for simple linear regression. \n",
    "\n",
    "2. Apply exploratory data analysis and simple regression on COVID-19 dataset(s). "
   ]
  },
  {
   "cell_type": "markdown",
   "metadata": {},
   "source": [
    "#### Write your name\n",
    "\n",
    "- xiaomei Xie\n",
    "- Lili Hao\n"
   ]
  },
  {
   "cell_type": "markdown",
   "metadata": {},
   "source": [
    "###  Simple Linear Regression example\n",
    "\n",
    "Follow the code and observe the results"
   ]
  },
  {
   "cell_type": "code",
   "execution_count": 79,
   "metadata": {},
   "outputs": [],
   "source": [
    "# Python ≥3.5 is required\n",
    "import sys\n",
    "assert sys.version_info >= (3, 5)"
   ]
  },
  {
   "cell_type": "code",
   "execution_count": 80,
   "metadata": {},
   "outputs": [],
   "source": [
    "# Scikit-Learn ≥0.20 is required\n",
    "import sklearn\n",
    "assert sklearn.__version__ >= \"0.20\""
   ]
  },
  {
   "cell_type": "markdown",
   "metadata": {},
   "source": [
    "This function just merges the OECD's life satisfaction data and the IMF's GDP per capita data. It's a bit too long and boring and it's not specific to Machine Learning, which is why I left it out of the book."
   ]
  },
  {
   "cell_type": "markdown",
   "metadata": {},
   "source": [
    "### Data Preparation"
   ]
  },
  {
   "cell_type": "markdown",
   "metadata": {},
   "source": [
    "The code expects the data files to be located in the current directory. Fetch the files in datasets/lifesat."
   ]
  },
  {
   "cell_type": "code",
   "execution_count": 81,
   "metadata": {},
   "outputs": [
    {
     "data": {
      "text/plain": [
       "'datasets\\\\lifesat\\\\'"
      ]
     },
     "execution_count": 81,
     "metadata": {},
     "output_type": "execute_result"
    }
   ],
   "source": [
    "import os\n",
    "datapath = os.path.join(\"datasets\", \"lifesat\", \"\")\n",
    "datapath"
   ]
  },
  {
   "cell_type": "code",
   "execution_count": 82,
   "metadata": {},
   "outputs": [],
   "source": [
    "# To plot pretty figures directly within Jupyter\n",
    "%matplotlib inline\n",
    "import matplotlib as mpl\n",
    "\n",
    "mpl.rc('axes', labelsize=14)\n",
    "mpl.rc('xtick', labelsize=12)\n",
    "mpl.rc('ytick', labelsize=12)"
   ]
  },
  {
   "cell_type": "code",
   "execution_count": 83,
   "metadata": {},
   "outputs": [
    {
     "name": "stdout",
     "output_type": "stream",
     "text": [
      "Downloading oecd_bli_2015.csv\n",
      "Downloading gdp_per_capita.csv\n"
     ]
    }
   ],
   "source": [
    "# Download the data\n",
    "import urllib\n",
    "DOWNLOAD_ROOT = \"https://raw.githubusercontent.com/ageron/handson-ml2/master/\"\n",
    "os.makedirs(datapath, exist_ok=True)\n",
    "\n",
    "for filename in (\"oecd_bli_2015.csv\", \"gdp_per_capita.csv\"):\n",
    "    print(\"Downloading\", filename)\n",
    "    url = DOWNLOAD_ROOT + \"datasets/lifesat/\" + filename\n",
    "    urllib.request.urlretrieve(url, datapath + filename)"
   ]
  },
  {
   "cell_type": "markdown",
   "metadata": {},
   "source": [
    "#### Load the data into a DataFrame"
   ]
  },
  {
   "cell_type": "code",
   "execution_count": 84,
   "metadata": {},
   "outputs": [],
   "source": [
    "# Code example of load the data and prepared the data\n",
    "import matplotlib.pyplot as plt\n",
    "import numpy as np\n",
    "import pandas as pd\n",
    "import sklearn.linear_model\n",
    "\n",
    "# Load the data\n",
    "oecd_bli = pd.read_csv(datapath + \"oecd_bli_2015.csv\", thousands=',')\n",
    "gdp_per_capita = pd.read_csv(datapath + \"gdp_per_capita.csv\",thousands=',',delimiter='\\t',\n",
    "                             encoding='latin1', na_values=\"n/a\")"
   ]
  },
  {
   "cell_type": "markdown",
   "metadata": {},
   "source": [
    "#### Select the data and visualize it"
   ]
  },
  {
   "cell_type": "code",
   "execution_count": 85,
   "metadata": {},
   "outputs": [],
   "source": [
    "def prepare_country_stats(oecd_bli, gdp_per_capita):\n",
    "    oecd_bli = oecd_bli[oecd_bli[\"INEQUALITY\"]==\"TOT\"]\n",
    "    oecd_bli = oecd_bli.pivot(index=\"Country\", columns=\"Indicator\", values=\"Value\")\n",
    "    gdp_per_capita.rename(columns={\"2015\": \"GDP per capita\"}, inplace=True)\n",
    "    gdp_per_capita.set_index(\"Country\", inplace=True)\n",
    "    \n",
    "    full_country_stats = pd.merge(left=oecd_bli, right=gdp_per_capita,\n",
    "                                  left_index=True, right_index=True)\n",
    "    \n",
    "    full_country_stats.sort_values(by=\"GDP per capita\", inplace=True)\n",
    "    remove_indices = [0, 1, 6, 8, 33, 34, 35]\n",
    "    keep_indices = list(set(range(36)) - set(remove_indices))\n",
    "    \n",
    "    return full_country_stats[['GDP per capita', 'Life satisfaction']].iloc[keep_indices]"
   ]
  },
  {
   "cell_type": "code",
   "execution_count": 86,
   "metadata": {},
   "outputs": [
    {
     "data": {
      "image/png": "[encoded data removed]",
      "text/plain": [
       "<Figure size 432x288 with 1 Axes>"
      ]
     },
     "metadata": {
      "needs_background": "light"
     },
     "output_type": "display_data"
    }
   ],
   "source": [
    "# Prepare the data\n",
    "country_stats = prepare_country_stats(oecd_bli, gdp_per_capita)\n",
    "\n",
    "X = np.c_[country_stats['GDP per capita']]\n",
    "y = np.c_[country_stats['Life satisfaction']]\n",
    "\n",
    "# Visualize the data\n",
    "country_stats.plot(kind='scatter', x=\"GDP per capita\", y='Life satisfaction')\n",
    "plt.show()"
   ]
  },
  {
   "cell_type": "code",
   "execution_count": 87,
   "metadata": {},
   "outputs": [
    {
     "data": {
      "text/plain": [
       "(29, 1)"
      ]
     },
     "execution_count": 87,
     "metadata": {},
     "output_type": "execute_result"
    }
   ],
   "source": [
    "X.shape\n"
   ]
  },
  {
   "cell_type": "code",
   "execution_count": 88,
   "metadata": {},
   "outputs": [
    {
     "data": {
      "text/plain": [
       "(29, 1)"
      ]
     },
     "execution_count": 88,
     "metadata": {},
     "output_type": "execute_result"
    }
   ],
   "source": [
    "y.shape"
   ]
  },
  {
   "cell_type": "markdown",
   "metadata": {},
   "source": [
    "### Build a simple regression model"
   ]
  },
  {
   "cell_type": "markdown",
   "metadata": {},
   "source": [
    "\n",
    "#### Create a simple linear regression \n",
    "\n",
    "https://scikit-learn.org/stable/modules/generated/sklearn.linear_model.LinearRegression.html"
   ]
  },
  {
   "cell_type": "code",
   "execution_count": 89,
   "metadata": {},
   "outputs": [
    {
     "data": {
      "text/plain": [
       "LinearRegression()"
      ]
     },
     "execution_count": 89,
     "metadata": {},
     "output_type": "execute_result"
    }
   ],
   "source": [
    "# import model\n",
    "from sklearn.linear_model import LinearRegression\n",
    "\n",
    "# Create a simple linear regression model\n",
    "model = LinearRegression()\n",
    "\n",
    "# Train the model (we use all data for training --> Later we will divide the data into training data and testing data)\n",
    "model.fit(X,y)\n"
   ]
  },
  {
   "cell_type": "code",
   "execution_count": 90,
   "metadata": {},
   "outputs": [
    {
     "name": "stdout",
     "output_type": "stream",
     "text": [
      "[[4.91154459e-05]]\n",
      "[4.8530528]\n"
     ]
    }
   ],
   "source": [
    "print(model.coef_)\n",
    "print(model.intercept_)"
   ]
  },
  {
   "cell_type": "markdown",
   "metadata": {},
   "source": [
    "#### Predict y for a new X value"
   ]
  },
  {
   "cell_type": "code",
   "execution_count": 91,
   "metadata": {},
   "outputs": [
    {
     "data": {
      "text/plain": [
       "array([[5.96242338]])"
      ]
     },
     "execution_count": 91,
     "metadata": {},
     "output_type": "execute_result"
    }
   ],
   "source": [
    "# Make a prediction for Cyprus \n",
    "# new data value 22587 for Cyprus's GDP per capita\n",
    "\n",
    "X_new = [[22587]]\n",
    "\n",
    "y_predict = model.predict(X_new)\n",
    "\n",
    "y_predict"
   ]
  },
  {
   "cell_type": "markdown",
   "metadata": {},
   "source": [
    "#### Plot a scatter graph together with the regression function"
   ]
  },
  {
   "cell_type": "code",
   "execution_count": 92,
   "metadata": {},
   "outputs": [
    {
     "data": {
      "image/png": "[encoded data removed]",
      "text/plain": [
       "<Figure size 432x288 with 1 Axes>"
      ]
     },
     "metadata": {
      "needs_background": "light"
     },
     "output_type": "display_data"
    }
   ],
   "source": [
    "# Plot scatterplot \n",
    "plt.scatter(X, y, c='red', label='observed')\n",
    "plt.legend(loc='best')\n",
    "\n",
    "plt.xlabel('GDP per capita')\n",
    "plt.ylabel('Life satisfaction')\n",
    "plt.title('Regression')\n",
    "\n",
    "# plot the regression function\n",
    "plt.plot(X,model.predict(X),c='g',label='fitted',linewidth=2)\n",
    "\n",
    "plt.show()"
   ]
  },
  {
   "cell_type": "markdown",
   "metadata": {},
   "source": [
    "## Model evaluation metrics for regression models\n",
    "\n",
    "Evaluation metrics for classification problems, such as **accuracy**, are not useful for regression problems. Instead, we need evaluation metrics designed for comparing continuous values.\n",
    "\n",
    "Let's create some example numeric predictions, and calculate **three common evaluation metrics** for regression problems:\n",
    "\n",
    "See more details: https://scikit-learn.org/stable/modules/model_evaluation.html"
   ]
  },
  {
   "cell_type": "markdown",
   "metadata": {},
   "source": [
    "**Mean Absolute Error** (MAE) is the mean of the absolute value of the errors:\n",
    "\n",
    "$$\\frac 1n\\sum_{i=1}^n|y_i-\\hat{y}_i|$$"
   ]
  },
  {
   "cell_type": "markdown",
   "metadata": {},
   "source": [
    "**Mean Squared Error** (MSE) is the mean of the squared errors:\n",
    "\n",
    "$$\\frac 1n\\sum_{i=1}^n(y_i-\\hat{y}_i)^2$$"
   ]
  },
  {
   "cell_type": "markdown",
   "metadata": {},
   "source": [
    "**Root Mean Squared Error** (RMSE) is the square root of the mean of the squared errors:\n",
    "\n",
    "$$\\sqrt{\\frac 1n\\sum_{i=1}^n(y_i-\\hat{y}_i)^2}$$"
   ]
  },
  {
   "cell_type": "markdown",
   "metadata": {},
   "source": [
    "Comparing these metrics:\n",
    "\n",
    "- **MAE** is the easiest to understand, because it's the average error.\n",
    "- **MSE** is more popular than MAE, because MSE \"punishes\" larger errors.\n",
    "- **RMSE** is even more popular than MSE, because RMSE is interpretable in the \"y\" units.\n",
    "\n",
    "## The R2 (\"r-squared\") Regression Score\n",
    "\n",
    "- Measures how well a prediction model for regression fits the given data.\n",
    "\n",
    "- The score is between 0 and 1:\n",
    "\n",
    "     - A value of 0 corresponds to a constant model that predicts the mean value of all training target values.\n",
    "\n",
    "     - A value of 1 corresponds to perfect prediction\n",
    "\n",
    "- Also known as \"coefficient of determination\""
   ]
  },
  {
   "cell_type": "markdown",
   "metadata": {},
   "source": [
    "### Model Evaluation Example"
   ]
  },
  {
   "cell_type": "markdown",
   "metadata": {},
   "source": [
    "#### 1. Preparing X and y using pandas\n",
    "- We already did this process above\n",
    "- scikit-learn expects X (feature matrix) and y (response vector) to be NumPy arrays.\n",
    "- However, pandas is built on top of NumPy.\n",
    "- Thus, X can be a pandas DataFrame and y can be a pandas Series!\n",
    "\n",
    "See more details about Pandas Series and Numpy\n",
    "\n",
    "- https://pandas.pydata.org/pandas-docs/stable/reference/api/pandas.Series.html"
   ]
  },
  {
   "cell_type": "markdown",
   "metadata": {},
   "source": [
    "#### 2. Splitting X and y into training and testing sets\n",
    "\n",
    "We are using the same data that is stored X, y above. "
   ]
  },
  {
   "cell_type": "code",
   "execution_count": 93,
   "metadata": {},
   "outputs": [],
   "source": [
    "from sklearn.model_selection import train_test_split\n",
    "\n",
    "# split the data into training and testing (test data size 30%)\n",
    "\n",
    "X_train,X_test,y_train,y_test=train_test_split(X,y,test_size=0.3, random_state=1)\n",
    "\n",
    "\n"
   ]
  },
  {
   "cell_type": "markdown",
   "metadata": {},
   "source": [
    "#### 3. Linear regression in scikit-learn"
   ]
  },
  {
   "cell_type": "code",
   "execution_count": 94,
   "metadata": {},
   "outputs": [
    {
     "data": {
      "text/plain": [
       "LinearRegression()"
      ]
     },
     "execution_count": 94,
     "metadata": {},
     "output_type": "execute_result"
    }
   ],
   "source": [
    "# import model\n",
    "from sklearn.linear_model import LinearRegression\n",
    "\n",
    "# instantiate a simple linear regression model \n",
    "linreg=LinearRegression()\n",
    "\n",
    "# fit the model to the training data (learn the coefficients)\n",
    "\n",
    "linreg.fit(X_train,y_train)\n"
   ]
  },
  {
   "cell_type": "markdown",
   "metadata": {},
   "source": [
    "#### 4. Making predictions for testing data\n",
    "\n",
    "Use X_test"
   ]
  },
  {
   "cell_type": "code",
   "execution_count": 95,
   "metadata": {},
   "outputs": [
    {
     "data": {
      "text/plain": [
       "array([[6.59031623],\n",
       "       [6.90629497],\n",
       "       [6.82350342],\n",
       "       [6.90057464],\n",
       "       [7.24870458],\n",
       "       [6.88774681],\n",
       "       [5.42891846],\n",
       "       [6.12434396],\n",
       "       [7.19687366]])"
      ]
     },
     "execution_count": 95,
     "metadata": {},
     "output_type": "execute_result"
    }
   ],
   "source": [
    "# make predictions on the testing set\n",
    "y_pred=linreg.predict(X_test)\n",
    "\n",
    "y_pred\n",
    "\n"
   ]
  },
  {
   "cell_type": "code",
   "execution_count": 96,
   "metadata": {},
   "outputs": [
    {
     "name": "stdout",
     "output_type": "stream",
     "text": [
      "0.7119005755709598\n"
     ]
    }
   ],
   "source": [
    "print(linreg.score(X_train,y_train))  # training accuracy"
   ]
  },
  {
   "cell_type": "code",
   "execution_count": 97,
   "metadata": {},
   "outputs": [
    {
     "name": "stdout",
     "output_type": "stream",
     "text": [
      "0.5844350680603303\n"
     ]
    }
   ],
   "source": [
    "print(linreg.score(X_test,y_test)) # test "
   ]
  },
  {
   "cell_type": "markdown",
   "metadata": {},
   "source": [
    "#### 5. Computing the RMSE \n",
    "\n",
    "https://scikit-learn.org/stable/modules/model_evaluation.html"
   ]
  },
  {
   "cell_type": "code",
   "execution_count": 98,
   "metadata": {},
   "outputs": [
    {
     "data": {
      "text/plain": [
       "0.39596209321120795"
      ]
     },
     "execution_count": 98,
     "metadata": {},
     "output_type": "execute_result"
    }
   ],
   "source": [
    "from sklearn import metrics\n",
    "rmse = np.sqrt(metrics.mean_squared_error(y_test,y_pred))\n",
    "rmse"
   ]
  },
  {
   "cell_type": "markdown",
   "metadata": {},
   "source": [
    "#### 6. K Cross Validation and Learning Curve"
   ]
  },
  {
   "cell_type": "code",
   "execution_count": 99,
   "metadata": {},
   "outputs": [
    {
     "name": "stdout",
     "output_type": "stream",
     "text": [
      "KFold(n_splits=3, random_state=None, shuffle=True)\n"
     ]
    }
   ],
   "source": [
    "import statistics as st\n",
    "from sklearn.model_selection import KFold # import k-fold validation\n",
    "\n",
    "kf = KFold(n_splits=3, random_state=None, shuffle=True) # Define the split - into 3 folds \n",
    "\n",
    "kf.get_n_splits(X) # returns the number of splitting iterations in the cross-validator\n",
    "\n",
    "print(kf) "
   ]
  },
  {
   "cell_type": "markdown",
   "metadata": {},
   "source": [
    "##### Setting up a testbed using KFold "
   ]
  },
  {
   "cell_type": "code",
   "execution_count": 100,
   "metadata": {},
   "outputs": [
    {
     "name": "stdout",
     "output_type": "stream",
     "text": [
      "[0.49764156809370635, 0.5648402338238144, 0.4103038145244665]\n",
      "[0.3625556491769293, 0.592223300426711, 0.7313576273191578]\n"
     ]
    }
   ],
   "source": [
    "# Let's create a new simple linear regressor\n",
    "linreg=LinearRegression()\n",
    "\n",
    "# Conduct 3-fold cross validation\n",
    "rmse=[]\n",
    "r2 =[]\n",
    "\n",
    "for train_index, test_index in kf.split(X):\n",
    "    X_train, X_test = X[train_index],X[test_index]\n",
    "    y_train, y_test = y[train_index],y[test_index]\n",
    "    \n",
    "    linreg.fit(X_train, y_train)\n",
    "    y_pred = linreg.predict(X_test)\n",
    "    \n",
    "    rmse.append(np.sqrt(metrics.mean_squared_error(y_test,y_pred)))\n",
    "    r2.append(metrics.r2_score(y_test,y_pred))\n",
    "    \n",
    "\n",
    "print(rmse)\n",
    "print(r2)"
   ]
  },
  {
   "cell_type": "markdown",
   "metadata": {},
   "source": [
    "#### Learning Curve\n",
    "\n",
    "Check the details for learning curve\n",
    "\n",
    "https://scikit-learn.org/stable/modules/generated/sklearn.model_selection.learning_curve.html"
   ]
  },
  {
   "cell_type": "code",
   "execution_count": 101,
   "metadata": {},
   "outputs": [
    {
     "name": "stdout",
     "output_type": "stream",
     "text": [
      "[[0.06413369 0.36214855 0.08794207]\n",
      " [0.18592142 0.31868486 0.38789797]\n",
      " [0.23076278 0.31029517 0.46416608]\n",
      " [0.2092056  0.43495849 0.42293282]\n",
      " [0.27893795 0.40426653 0.4284353 ]]\n",
      "[[0.78926445 0.46639604 1.15843984]\n",
      " [0.59254683 0.4215371  1.0135073 ]\n",
      " [0.51980052 0.44123299 0.27424462]\n",
      " [0.52012923 0.43477794 0.2250908 ]\n",
      " [0.52438526 0.46772207 0.23902337]]\n"
     ]
    },
    {
     "data": {
      "image/png": "[encoded data removed]",
      "text/plain": [
       "<Figure size 360x216 with 1 Axes>"
      ]
     },
     "metadata": {
      "needs_background": "light"
     },
     "output_type": "display_data"
    }
   ],
   "source": [
    "from sklearn.model_selection import learning_curve\n",
    "    \n",
    "# evaluate the training and testing and retrieve the information of model performance. \n",
    "\n",
    "train_sizes = np.linspace(0.2,0.8,5)  # 5 times 5*3 = 15\n",
    "\n",
    "train_sizes, train_mse, test_mse = learning_curve(linreg, X, y, \n",
    "                            train_sizes = train_sizes, \n",
    "                            scoring = 'neg_mean_squared_error',\n",
    "                                                 cv=3, shuffle=True)\n",
    "train_scores = np.sqrt(np.abs(train_mse))\n",
    "\n",
    "test_scores = np.sqrt(np.abs(test_mse))\n",
    "\n",
    "print(train_scores)\n",
    "print(test_scores) \n",
    "\n",
    "train_scores_mean=np.mean(train_scores, axis=1)\n",
    "\n",
    "test_scores_mean = np.mean(test_scores, axis=1)\n",
    "\n",
    "\n",
    "\n",
    "\n",
    "\n",
    "# Plot learning curve\n",
    "fig, ax = plt.subplots(1, 1, figsize=(5, 3))\n",
    "    \n",
    "ax.set_title('A learning curve for a simple linear regression')\n",
    "ax.set_xlabel(\"Training examples\")\n",
    "ax.set_ylabel(\"Score (RMSE)\")\n",
    "ax.grid()\n",
    "\n",
    "ax.plot(train_sizes, train_scores_mean, 'o-', color=\"r\", label=\"Training score\")\n",
    "ax.plot(train_sizes, test_scores_mean, 'o-', color=\"g\", label=\"Cross-validation score\")\n",
    "ax.legend(loc=\"best\")\n",
    "\n",
    "plt.show()\n",
    "\n"
   ]
  },
  {
   "cell_type": "markdown",
   "metadata": {},
   "source": [
    "### Teamwork\n",
    "\n",
    "\n",
    "###  Part 1: Explore insight of the data using other visualization tools\n",
    "\n",
    "The following Git repository is for the COVID-19 visual dashboard operated by the Johns Hopkins University Center for Systems Science and Engineering:\n",
    "https://github.com/CSSEGISandData/COVID-19\n",
    "\n",
    "Read the information on the dashboard and check the datasets details\n",
    "\n",
    "Datasets are located in a folder: csse_covid_19_data"
   ]
  },
  {
   "cell_type": "markdown",
   "metadata": {},
   "source": [
    "### Tasks\n",
    "\n",
    "1. Select attributes (columns) you are interested (either US only or all data).\n",
    "\n",
    "   1.1 (optional) If you find any missing data or/and invalid data in the selected attributes you would like to work on, apply tools to handle these data. \n",
    "\n",
    "2. Conduct exploratory data analysis on the selected data and visualize the data. This may include the following but not limited:\n",
    "\n",
    "(a) The mean, median and standard deviation\n",
    "\n",
    "(b) Draw boxplots\n",
    "\n",
    "(c) Draw histograms\n",
    "\n",
    "(d) Draw a scatter plot of the data\n",
    "\n",
    "(e) Display simple linear regression function with a scatter plot\n",
    "    --> You will see the data does not follow a simple linear function. \n",
    "   \n",
    "(f) Create a logistic regression function instead of a simple linear regression. See the web resources below:\n",
    "\n",
    "    from sklearn.linear_model import LogisticRegression\n",
    "    \n",
    "This time draw a scatter plot of the data together with the logistic regression function. "
   ]
  },
  {
   "cell_type": "code",
   "execution_count": 102,
   "metadata": {},
   "outputs": [],
   "source": [
    "import os\n",
    "datapath = os.path.join(\"datasets\", \"csse_covid_19_data\",\"csse_covid_19_daily_reports_us\", \"\")"
   ]
  },
  {
   "cell_type": "code",
   "execution_count": 103,
   "metadata": {},
   "outputs": [
    {
     "data": {
      "text/plain": [
       "'datasets\\\\csse_covid_19_data\\\\csse_covid_19_daily_reports_us\\\\'"
      ]
     },
     "execution_count": 103,
     "metadata": {},
     "output_type": "execute_result"
    }
   ],
   "source": [
    "datapath  #/csse_covid_19_data/csse_covid_19_time_series/time_series_covid19_deaths_US.csv\n",
    "            #COVID-19/csse_covid_19_data/csse_covid_19_daily_reports_us/"
   ]
  },
  {
   "cell_type": "code",
   "execution_count": 104,
   "metadata": {},
   "outputs": [],
   "source": [
    "# Code example of load the data and prepared the data\n",
    "import matplotlib.pyplot as plt\n",
    "import numpy as np\n",
    "import pandas as pd\n",
    "import sklearn.linear_model\n",
    "\n",
    "# Load the data\n",
    "us_data = pd.read_csv(datapath + \"12-31-2020.csv\")\n"
   ]
  },
  {
   "cell_type": "code",
   "execution_count": 105,
   "metadata": {},
   "outputs": [
    {
     "data": {
      "text/plain": [
       "(58, 18)"
      ]
     },
     "execution_count": 105,
     "metadata": {},
     "output_type": "execute_result"
    }
   ],
   "source": [
    "us_data.shape"
   ]
  },
  {
   "cell_type": "code",
   "execution_count": 106,
   "metadata": {},
   "outputs": [
    {
     "data": {
      "text/plain": [
       "Index(['Province_State', 'Country_Region', 'Last_Update', 'Lat', 'Long_',\n",
       "       'Confirmed', 'Deaths', 'Recovered', 'Active', 'FIPS', 'Incident_Rate',\n",
       "       'Total_Test_Results', 'People_Hospitalized', 'Case_Fatality_Ratio',\n",
       "       'UID', 'ISO3', 'Testing_Rate', 'Hospitalization_Rate'],\n",
       "      dtype='object')"
      ]
     },
     "execution_count": 106,
     "metadata": {},
     "output_type": "execute_result"
    }
   ],
   "source": [
    "us_data.columns"
   ]
  },
  {
   "cell_type": "code",
   "execution_count": 107,
   "metadata": {},
   "outputs": [
    {
     "data": {
      "text/html": [
       "<div>\n",
       "<style scoped>\n",
       "    .dataframe tbody tr th:only-of-type {\n",
       "        vertical-align: middle;\n",
       "    }\n",
       "\n",
       "    .dataframe tbody tr th {\n",
       "        vertical-align: top;\n",
       "    }\n",
       "\n",
       "    .dataframe thead th {\n",
       "        text-align: right;\n",
       "    }\n",
       "</style>\n",
       "<table border=\"1\" class=\"dataframe\">\n",
       "  <thead>\n",
       "    <tr style=\"text-align: right;\">\n",
       "      <th></th>\n",
       "      <th>Province_State</th>\n",
       "      <th>Country_Region</th>\n",
       "      <th>Last_Update</th>\n",
       "      <th>Lat</th>\n",
       "      <th>Long_</th>\n",
       "      <th>Confirmed</th>\n",
       "      <th>Deaths</th>\n",
       "      <th>Recovered</th>\n",
       "      <th>Active</th>\n",
       "      <th>FIPS</th>\n",
       "      <th>Incident_Rate</th>\n",
       "      <th>Total_Test_Results</th>\n",
       "      <th>People_Hospitalized</th>\n",
       "      <th>Case_Fatality_Ratio</th>\n",
       "      <th>UID</th>\n",
       "      <th>ISO3</th>\n",
       "      <th>Testing_Rate</th>\n",
       "      <th>Hospitalization_Rate</th>\n",
       "    </tr>\n",
       "  </thead>\n",
       "  <tbody>\n",
       "    <tr>\n",
       "      <th>0</th>\n",
       "      <td>Alabama</td>\n",
       "      <td>US</td>\n",
       "      <td>2021-01-01 05:30:27</td>\n",
       "      <td>32.3182</td>\n",
       "      <td>-86.9023</td>\n",
       "      <td>361226</td>\n",
       "      <td>4827</td>\n",
       "      <td>202137.0</td>\n",
       "      <td>154262.0</td>\n",
       "      <td>1.0</td>\n",
       "      <td>7367.170523</td>\n",
       "      <td>1874000.0</td>\n",
       "      <td>NaN</td>\n",
       "      <td>1.336283</td>\n",
       "      <td>84000001.0</td>\n",
       "      <td>USA</td>\n",
       "      <td>38220.054923</td>\n",
       "      <td>NaN</td>\n",
       "    </tr>\n",
       "    <tr>\n",
       "      <th>1</th>\n",
       "      <td>Alaska</td>\n",
       "      <td>US</td>\n",
       "      <td>2021-01-01 05:30:27</td>\n",
       "      <td>61.3707</td>\n",
       "      <td>-152.4044</td>\n",
       "      <td>46986</td>\n",
       "      <td>206</td>\n",
       "      <td>7165.0</td>\n",
       "      <td>39615.0</td>\n",
       "      <td>2.0</td>\n",
       "      <td>6422.844801</td>\n",
       "      <td>1275750.0</td>\n",
       "      <td>NaN</td>\n",
       "      <td>0.438428</td>\n",
       "      <td>84000002.0</td>\n",
       "      <td>USA</td>\n",
       "      <td>174391.185778</td>\n",
       "      <td>NaN</td>\n",
       "    </tr>\n",
       "    <tr>\n",
       "      <th>2</th>\n",
       "      <td>American Samoa</td>\n",
       "      <td>US</td>\n",
       "      <td>2021-01-01 05:30:27</td>\n",
       "      <td>-14.2710</td>\n",
       "      <td>-170.1320</td>\n",
       "      <td>0</td>\n",
       "      <td>0</td>\n",
       "      <td>NaN</td>\n",
       "      <td>0.0</td>\n",
       "      <td>60.0</td>\n",
       "      <td>0.000000</td>\n",
       "      <td>2140.0</td>\n",
       "      <td>NaN</td>\n",
       "      <td>NaN</td>\n",
       "      <td>16.0</td>\n",
       "      <td>ASM</td>\n",
       "      <td>3846.084722</td>\n",
       "      <td>NaN</td>\n",
       "    </tr>\n",
       "    <tr>\n",
       "      <th>3</th>\n",
       "      <td>Arizona</td>\n",
       "      <td>US</td>\n",
       "      <td>2021-01-01 05:30:27</td>\n",
       "      <td>33.7298</td>\n",
       "      <td>-111.4312</td>\n",
       "      <td>520207</td>\n",
       "      <td>8864</td>\n",
       "      <td>75981.0</td>\n",
       "      <td>435362.0</td>\n",
       "      <td>4.0</td>\n",
       "      <td>7146.960103</td>\n",
       "      <td>2834752.0</td>\n",
       "      <td>NaN</td>\n",
       "      <td>1.703937</td>\n",
       "      <td>84000004.0</td>\n",
       "      <td>USA</td>\n",
       "      <td>38945.764755</td>\n",
       "      <td>NaN</td>\n",
       "    </tr>\n",
       "    <tr>\n",
       "      <th>4</th>\n",
       "      <td>Arkansas</td>\n",
       "      <td>US</td>\n",
       "      <td>2021-01-01 05:30:27</td>\n",
       "      <td>34.9697</td>\n",
       "      <td>-92.3731</td>\n",
       "      <td>225138</td>\n",
       "      <td>3676</td>\n",
       "      <td>199247.0</td>\n",
       "      <td>22215.0</td>\n",
       "      <td>5.0</td>\n",
       "      <td>7460.325455</td>\n",
       "      <td>2051488.0</td>\n",
       "      <td>NaN</td>\n",
       "      <td>1.632776</td>\n",
       "      <td>84000005.0</td>\n",
       "      <td>USA</td>\n",
       "      <td>67979.497674</td>\n",
       "      <td>NaN</td>\n",
       "    </tr>\n",
       "  </tbody>\n",
       "</table>\n",
       "</div>"
      ],
      "text/plain": [
       "   Province_State Country_Region          Last_Update      Lat     Long_  \\\n",
       "0         Alabama             US  2021-01-01 05:30:27  32.3182  -86.9023   \n",
       "1          Alaska             US  2021-01-01 05:30:27  61.3707 -152.4044   \n",
       "2  American Samoa             US  2021-01-01 05:30:27 -14.2710 -170.1320   \n",
       "3         Arizona             US  2021-01-01 05:30:27  33.7298 -111.4312   \n",
       "4        Arkansas             US  2021-01-01 05:30:27  34.9697  -92.3731   \n",
       "\n",
       "   Confirmed  Deaths  Recovered    Active  FIPS  Incident_Rate  \\\n",
       "0     361226    4827   202137.0  154262.0   1.0    7367.170523   \n",
       "1      46986     206     7165.0   39615.0   2.0    6422.844801   \n",
       "2          0       0        NaN       0.0  60.0       0.000000   \n",
       "3     520207    8864    75981.0  435362.0   4.0    7146.960103   \n",
       "4     225138    3676   199247.0   22215.0   5.0    7460.325455   \n",
       "\n",
       "   Total_Test_Results  People_Hospitalized  Case_Fatality_Ratio         UID  \\\n",
       "0           1874000.0                  NaN             1.336283  84000001.0   \n",
       "1           1275750.0                  NaN             0.438428  84000002.0   \n",
       "2              2140.0                  NaN                  NaN        16.0   \n",
       "3           2834752.0                  NaN             1.703937  84000004.0   \n",
       "4           2051488.0                  NaN             1.632776  84000005.0   \n",
       "\n",
       "  ISO3   Testing_Rate  Hospitalization_Rate  \n",
       "0  USA   38220.054923                   NaN  \n",
       "1  USA  174391.185778                   NaN  \n",
       "2  ASM    3846.084722                   NaN  \n",
       "3  USA   38945.764755                   NaN  \n",
       "4  USA   67979.497674                   NaN  "
      ]
     },
     "execution_count": 107,
     "metadata": {},
     "output_type": "execute_result"
    }
   ],
   "source": [
    "us_data.head()"
   ]
  },
  {
   "cell_type": "code",
   "execution_count": 108,
   "metadata": {},
   "outputs": [
    {
     "data": {
      "text/html": [
       "<div>\n",
       "<style scoped>\n",
       "    .dataframe tbody tr th:only-of-type {\n",
       "        vertical-align: middle;\n",
       "    }\n",
       "\n",
       "    .dataframe tbody tr th {\n",
       "        vertical-align: top;\n",
       "    }\n",
       "\n",
       "    .dataframe thead th {\n",
       "        text-align: right;\n",
       "    }\n",
       "</style>\n",
       "<table border=\"1\" class=\"dataframe\">\n",
       "  <thead>\n",
       "    <tr style=\"text-align: right;\">\n",
       "      <th></th>\n",
       "      <th>Lat</th>\n",
       "      <th>Long_</th>\n",
       "      <th>Confirmed</th>\n",
       "      <th>Deaths</th>\n",
       "      <th>Recovered</th>\n",
       "      <th>Active</th>\n",
       "      <th>FIPS</th>\n",
       "      <th>Incident_Rate</th>\n",
       "      <th>Total_Test_Results</th>\n",
       "      <th>People_Hospitalized</th>\n",
       "      <th>Case_Fatality_Ratio</th>\n",
       "      <th>UID</th>\n",
       "      <th>Testing_Rate</th>\n",
       "      <th>Hospitalization_Rate</th>\n",
       "    </tr>\n",
       "  </thead>\n",
       "  <tbody>\n",
       "    <tr>\n",
       "      <th>count</th>\n",
       "      <td>56.000000</td>\n",
       "      <td>56.000000</td>\n",
       "      <td>5.800000e+01</td>\n",
       "      <td>58.000000</td>\n",
       "      <td>4.800000e+01</td>\n",
       "      <td>5.800000e+01</td>\n",
       "      <td>58.000000</td>\n",
       "      <td>56.000000</td>\n",
       "      <td>5.600000e+01</td>\n",
       "      <td>0.0</td>\n",
       "      <td>57.000000</td>\n",
       "      <td>5.800000e+01</td>\n",
       "      <td>56.000000</td>\n",
       "      <td>0.0</td>\n",
       "    </tr>\n",
       "    <tr>\n",
       "      <th>mean</th>\n",
       "      <td>36.840089</td>\n",
       "      <td>-85.206614</td>\n",
       "      <td>3.452798e+05</td>\n",
       "      <td>5963.206897</td>\n",
       "      <td>1.649857e+05</td>\n",
       "      <td>2.017765e+05</td>\n",
       "      <td>3288.086207</td>\n",
       "      <td>5892.683739</td>\n",
       "      <td>4.433222e+06</td>\n",
       "      <td>NaN</td>\n",
       "      <td>1.649198</td>\n",
       "      <td>7.676194e+07</td>\n",
       "      <td>76111.280612</td>\n",
       "      <td>NaN</td>\n",
       "    </tr>\n",
       "    <tr>\n",
       "      <th>std</th>\n",
       "      <td>10.887035</td>\n",
       "      <td>49.754449</td>\n",
       "      <td>4.254457e+05</td>\n",
       "      <td>7780.743981</td>\n",
       "      <td>2.409103e+05</td>\n",
       "      <td>3.711809e+05</td>\n",
       "      <td>17408.350591</td>\n",
       "      <td>2494.901735</td>\n",
       "      <td>5.984480e+06</td>\n",
       "      <td>NaN</td>\n",
       "      <td>0.755468</td>\n",
       "      <td>2.378302e+07</td>\n",
       "      <td>38043.217079</td>\n",
       "      <td>NaN</td>\n",
       "    </tr>\n",
       "    <tr>\n",
       "      <th>min</th>\n",
       "      <td>-14.271000</td>\n",
       "      <td>-170.132000</td>\n",
       "      <td>0.000000e+00</td>\n",
       "      <td>0.000000</td>\n",
       "      <td>2.900000e+01</td>\n",
       "      <td>0.000000e+00</td>\n",
       "      <td>1.000000</td>\n",
       "      <td>0.000000</td>\n",
       "      <td>2.140000e+03</td>\n",
       "      <td>NaN</td>\n",
       "      <td>0.000000</td>\n",
       "      <td>1.600000e+01</td>\n",
       "      <td>3846.084722</td>\n",
       "      <td>NaN</td>\n",
       "    </tr>\n",
       "    <tr>\n",
       "      <th>25%</th>\n",
       "      <td>34.594600</td>\n",
       "      <td>-101.165775</td>\n",
       "      <td>7.760700e+04</td>\n",
       "      <td>1038.000000</td>\n",
       "      <td>1.646775e+04</td>\n",
       "      <td>1.024425e+04</td>\n",
       "      <td>18.250000</td>\n",
       "      <td>4715.211838</td>\n",
       "      <td>1.025005e+06</td>\n",
       "      <td>NaN</td>\n",
       "      <td>1.250683</td>\n",
       "      <td>8.400001e+07</td>\n",
       "      <td>49945.276085</td>\n",
       "      <td>NaN</td>\n",
       "    </tr>\n",
       "    <tr>\n",
       "      <th>50%</th>\n",
       "      <td>39.061850</td>\n",
       "      <td>-87.944200</td>\n",
       "      <td>2.360960e+05</td>\n",
       "      <td>3291.500000</td>\n",
       "      <td>7.055200e+04</td>\n",
       "      <td>7.291750e+04</td>\n",
       "      <td>32.500000</td>\n",
       "      <td>6041.657449</td>\n",
       "      <td>2.448986e+06</td>\n",
       "      <td>NaN</td>\n",
       "      <td>1.500545</td>\n",
       "      <td>8.400003e+07</td>\n",
       "      <td>71795.503468</td>\n",
       "      <td>NaN</td>\n",
       "    </tr>\n",
       "    <tr>\n",
       "      <th>75%</th>\n",
       "      <td>42.361650</td>\n",
       "      <td>-76.970625</td>\n",
       "      <td>4.874392e+05</td>\n",
       "      <td>6867.250000</td>\n",
       "      <td>2.431972e+05</td>\n",
       "      <td>2.207535e+05</td>\n",
       "      <td>47.750000</td>\n",
       "      <td>7494.636402</td>\n",
       "      <td>5.349887e+06</td>\n",
       "      <td>NaN</td>\n",
       "      <td>1.834862</td>\n",
       "      <td>8.400004e+07</td>\n",
       "      <td>90953.311065</td>\n",
       "      <td>NaN</td>\n",
       "    </tr>\n",
       "    <tr>\n",
       "      <th>max</th>\n",
       "      <td>61.370700</td>\n",
       "      <td>145.673900</td>\n",
       "      <td>2.291007e+06</td>\n",
       "      <td>37983.000000</td>\n",
       "      <td>1.423001e+06</td>\n",
       "      <td>2.265110e+06</td>\n",
       "      <td>99999.000000</td>\n",
       "      <td>12137.463881</td>\n",
       "      <td>3.285548e+07</td>\n",
       "      <td>NaN</td>\n",
       "      <td>3.989023</td>\n",
       "      <td>8.410000e+07</td>\n",
       "      <td>186385.755186</td>\n",
       "      <td>NaN</td>\n",
       "    </tr>\n",
       "  </tbody>\n",
       "</table>\n",
       "</div>"
      ],
      "text/plain": [
       "             Lat       Long_     Confirmed        Deaths     Recovered  \\\n",
       "count  56.000000   56.000000  5.800000e+01     58.000000  4.800000e+01   \n",
       "mean   36.840089  -85.206614  3.452798e+05   5963.206897  1.649857e+05   \n",
       "std    10.887035   49.754449  4.254457e+05   7780.743981  2.409103e+05   \n",
       "min   -14.271000 -170.132000  0.000000e+00      0.000000  2.900000e+01   \n",
       "25%    34.594600 -101.165775  7.760700e+04   1038.000000  1.646775e+04   \n",
       "50%    39.061850  -87.944200  2.360960e+05   3291.500000  7.055200e+04   \n",
       "75%    42.361650  -76.970625  4.874392e+05   6867.250000  2.431972e+05   \n",
       "max    61.370700  145.673900  2.291007e+06  37983.000000  1.423001e+06   \n",
       "\n",
       "             Active          FIPS  Incident_Rate  Total_Test_Results  \\\n",
       "count  5.800000e+01     58.000000      56.000000        5.600000e+01   \n",
       "mean   2.017765e+05   3288.086207    5892.683739        4.433222e+06   \n",
       "std    3.711809e+05  17408.350591    2494.901735        5.984480e+06   \n",
       "min    0.000000e+00      1.000000       0.000000        2.140000e+03   \n",
       "25%    1.024425e+04     18.250000    4715.211838        1.025005e+06   \n",
       "50%    7.291750e+04     32.500000    6041.657449        2.448986e+06   \n",
       "75%    2.207535e+05     47.750000    7494.636402        5.349887e+06   \n",
       "max    2.265110e+06  99999.000000   12137.463881        3.285548e+07   \n",
       "\n",
       "       People_Hospitalized  Case_Fatality_Ratio           UID   Testing_Rate  \\\n",
       "count                  0.0            57.000000  5.800000e+01      56.000000   \n",
       "mean                   NaN             1.649198  7.676194e+07   76111.280612   \n",
       "std                    NaN             0.755468  2.378302e+07   38043.217079   \n",
       "min                    NaN             0.000000  1.600000e+01    3846.084722   \n",
       "25%                    NaN             1.250683  8.400001e+07   49945.276085   \n",
       "50%                    NaN             1.500545  8.400003e+07   71795.503468   \n",
       "75%                    NaN             1.834862  8.400004e+07   90953.311065   \n",
       "max                    NaN             3.989023  8.410000e+07  186385.755186   \n",
       "\n",
       "       Hospitalization_Rate  \n",
       "count                   0.0  \n",
       "mean                    NaN  \n",
       "std                     NaN  \n",
       "min                     NaN  \n",
       "25%                     NaN  \n",
       "50%                     NaN  \n",
       "75%                     NaN  \n",
       "max                     NaN  "
      ]
     },
     "execution_count": 108,
     "metadata": {},
     "output_type": "execute_result"
    }
   ],
   "source": [
    "us_data.describe()"
   ]
  },
  {
   "cell_type": "code",
   "execution_count": 109,
   "metadata": {},
   "outputs": [
    {
     "name": "stdout",
     "output_type": "stream",
     "text": [
      "<class 'pandas.core.frame.DataFrame'>\n",
      "RangeIndex: 58 entries, 0 to 57\n",
      "Data columns (total 18 columns):\n",
      " #   Column                Non-Null Count  Dtype  \n",
      "---  ------                --------------  -----  \n",
      " 0   Province_State        58 non-null     object \n",
      " 1   Country_Region        58 non-null     object \n",
      " 2   Last_Update           58 non-null     object \n",
      " 3   Lat                   56 non-null     float64\n",
      " 4   Long_                 56 non-null     float64\n",
      " 5   Confirmed             58 non-null     int64  \n",
      " 6   Deaths                58 non-null     int64  \n",
      " 7   Recovered             48 non-null     float64\n",
      " 8   Active                58 non-null     float64\n",
      " 9   FIPS                  58 non-null     float64\n",
      " 10  Incident_Rate         56 non-null     float64\n",
      " 11  Total_Test_Results    56 non-null     float64\n",
      " 12  People_Hospitalized   0 non-null      float64\n",
      " 13  Case_Fatality_Ratio   57 non-null     float64\n",
      " 14  UID                   58 non-null     float64\n",
      " 15  ISO3                  58 non-null     object \n",
      " 16  Testing_Rate          56 non-null     float64\n",
      " 17  Hospitalization_Rate  0 non-null      float64\n",
      "dtypes: float64(12), int64(2), object(4)\n",
      "memory usage: 8.3+ KB\n"
     ]
    }
   ],
   "source": [
    "us_data.info()"
   ]
  },
  {
   "cell_type": "markdown",
   "metadata": {},
   "source": [
    "### Drop the 'People_Hospitalizated' and 'Hospitalization_Rate' two columns, which only have NaN"
   ]
  },
  {
   "cell_type": "code",
   "execution_count": 110,
   "metadata": {},
   "outputs": [],
   "source": [
    "us_data=us_data.drop(['People_Hospitalized'], axis=1)\n",
    "us_data=us_data.drop(['Hospitalization_Rate'], axis=1)"
   ]
  },
  {
   "cell_type": "code",
   "execution_count": 111,
   "metadata": {},
   "outputs": [
    {
     "name": "stdout",
     "output_type": "stream",
     "text": [
      "<class 'pandas.core.frame.DataFrame'>\n",
      "RangeIndex: 58 entries, 0 to 57\n",
      "Data columns (total 16 columns):\n",
      " #   Column               Non-Null Count  Dtype  \n",
      "---  ------               --------------  -----  \n",
      " 0   Province_State       58 non-null     object \n",
      " 1   Country_Region       58 non-null     object \n",
      " 2   Last_Update          58 non-null     object \n",
      " 3   Lat                  56 non-null     float64\n",
      " 4   Long_                56 non-null     float64\n",
      " 5   Confirmed            58 non-null     int64  \n",
      " 6   Deaths               58 non-null     int64  \n",
      " 7   Recovered            48 non-null     float64\n",
      " 8   Active               58 non-null     float64\n",
      " 9   FIPS                 58 non-null     float64\n",
      " 10  Incident_Rate        56 non-null     float64\n",
      " 11  Total_Test_Results   56 non-null     float64\n",
      " 12  Case_Fatality_Ratio  57 non-null     float64\n",
      " 13  UID                  58 non-null     float64\n",
      " 14  ISO3                 58 non-null     object \n",
      " 15  Testing_Rate         56 non-null     float64\n",
      "dtypes: float64(10), int64(2), object(4)\n",
      "memory usage: 7.4+ KB\n"
     ]
    }
   ],
   "source": [
    "us_data.info(0)"
   ]
  },
  {
   "cell_type": "markdown",
   "metadata": {},
   "source": [
    "### Columnn 'Recovered' missing 10 rows, replace missing data to mean \n",
    " * Lat, Long_, Incident_Rate"
   ]
  },
  {
   "cell_type": "code",
   "execution_count": 112,
   "metadata": {},
   "outputs": [
    {
     "data": {
      "text/plain": [
       "164985.6875"
      ]
     },
     "execution_count": 112,
     "metadata": {},
     "output_type": "execute_result"
    }
   ],
   "source": [
    "recoverMean = us_data.Recovered.mean()\n",
    "recoverMean"
   ]
  },
  {
   "cell_type": "code",
   "execution_count": 113,
   "metadata": {},
   "outputs": [],
   "source": [
    "us_data['Recovered'].fillna(value=us_data['Recovered'].mean(), inplace=True) "
   ]
  },
  {
   "cell_type": "code",
   "execution_count": 114,
   "metadata": {},
   "outputs": [],
   "source": [
    "us_data['Lat'].fillna(value=us_data['Lat'].mean(), inplace=True) \n",
    "us_data['Long_'].fillna(value=us_data['Long_'].mean(), inplace=True) \n",
    "us_data['Incident_Rate'].fillna(value=us_data['Incident_Rate'].mean(), inplace=True) \n",
    "us_data['Total_Test_Results'].fillna(value=us_data['Total_Test_Results'].mean(), inplace=True) \n",
    "us_data['Case_Fatality_Ratio'].fillna(value=us_data['Case_Fatality_Ratio'].mean(), inplace=True) "
   ]
  },
  {
   "cell_type": "code",
   "execution_count": 115,
   "metadata": {},
   "outputs": [
    {
     "data": {
      "text/html": [
       "<div>\n",
       "<style scoped>\n",
       "    .dataframe tbody tr th:only-of-type {\n",
       "        vertical-align: middle;\n",
       "    }\n",
       "\n",
       "    .dataframe tbody tr th {\n",
       "        vertical-align: top;\n",
       "    }\n",
       "\n",
       "    .dataframe thead th {\n",
       "        text-align: right;\n",
       "    }\n",
       "</style>\n",
       "<table border=\"1\" class=\"dataframe\">\n",
       "  <thead>\n",
       "    <tr style=\"text-align: right;\">\n",
       "      <th></th>\n",
       "      <th>Confirmed</th>\n",
       "      <th>Deaths</th>\n",
       "      <th>Recovered</th>\n",
       "      <th>Total_Test_Results</th>\n",
       "      <th>Case_Fatality_Ratio</th>\n",
       "    </tr>\n",
       "  </thead>\n",
       "  <tbody>\n",
       "    <tr>\n",
       "      <th>0</th>\n",
       "      <td>361226</td>\n",
       "      <td>4827</td>\n",
       "      <td>202137.0000</td>\n",
       "      <td>1874000.0</td>\n",
       "      <td>1.336283</td>\n",
       "    </tr>\n",
       "    <tr>\n",
       "      <th>1</th>\n",
       "      <td>46986</td>\n",
       "      <td>206</td>\n",
       "      <td>7165.0000</td>\n",
       "      <td>1275750.0</td>\n",
       "      <td>0.438428</td>\n",
       "    </tr>\n",
       "    <tr>\n",
       "      <th>2</th>\n",
       "      <td>0</td>\n",
       "      <td>0</td>\n",
       "      <td>164985.6875</td>\n",
       "      <td>2140.0</td>\n",
       "      <td>1.649198</td>\n",
       "    </tr>\n",
       "    <tr>\n",
       "      <th>3</th>\n",
       "      <td>520207</td>\n",
       "      <td>8864</td>\n",
       "      <td>75981.0000</td>\n",
       "      <td>2834752.0</td>\n",
       "      <td>1.703937</td>\n",
       "    </tr>\n",
       "    <tr>\n",
       "      <th>4</th>\n",
       "      <td>225138</td>\n",
       "      <td>3676</td>\n",
       "      <td>199247.0000</td>\n",
       "      <td>2051488.0</td>\n",
       "      <td>1.632776</td>\n",
       "    </tr>\n",
       "  </tbody>\n",
       "</table>\n",
       "</div>"
      ],
      "text/plain": [
       "   Confirmed  Deaths    Recovered  Total_Test_Results  Case_Fatality_Ratio\n",
       "0     361226    4827  202137.0000           1874000.0             1.336283\n",
       "1      46986     206    7165.0000           1275750.0             0.438428\n",
       "2          0       0  164985.6875              2140.0             1.649198\n",
       "3     520207    8864   75981.0000           2834752.0             1.703937\n",
       "4     225138    3676  199247.0000           2051488.0             1.632776"
      ]
     },
     "execution_count": 115,
     "metadata": {},
     "output_type": "execute_result"
    }
   ],
   "source": [
    "df = us_data[['Confirmed','Deaths','Recovered','Total_Test_Results','Case_Fatality_Ratio']]\n",
    "df.head()"
   ]
  },
  {
   "cell_type": "code",
   "execution_count": 116,
   "metadata": {},
   "outputs": [
    {
     "data": {
      "text/plain": [
       "Index(['Confirmed', 'Deaths', 'Recovered', 'Total_Test_Results',\n",
       "       'Case_Fatality_Ratio'],\n",
       "      dtype='object')"
      ]
     },
     "execution_count": 116,
     "metadata": {},
     "output_type": "execute_result"
    }
   ],
   "source": [
    "col = df.columns\n",
    "col"
   ]
  },
  {
   "cell_type": "markdown",
   "metadata": {},
   "source": [
    "### (b) Draw boxplots"
   ]
  },
  {
   "cell_type": "code",
   "execution_count": 117,
   "metadata": {},
   "outputs": [],
   "source": [
    "import seaborn as sns\n",
    "import matplotlib.pyplot as plt \n",
    "import numpy as np "
   ]
  },
  {
   "cell_type": "code",
   "execution_count": 118,
   "metadata": {},
   "outputs": [
    {
     "data": {
      "text/plain": [
       "Text(0.5, 1.0, 'Case_Fatality_Ratio')"
      ]
     },
     "execution_count": 118,
     "metadata": {},
     "output_type": "execute_result"
    },
    {
     "data": {
      "image/png": "[encoded data removed]",
      "text/plain": [
       "<Figure size 1152x504 with 5 Axes>"
      ]
     },
     "metadata": {
      "needs_background": "light"
     },
     "output_type": "display_data"
    }
   ],
   "source": [
    "plt.figure(figsize=(16,7)) \n",
    "\n",
    "  \n",
    "\n",
    "plt.subplot(1,5,1) \n",
    "\n",
    "# Creating scatter  \n",
    "\n",
    "  \n",
    "\n",
    "plt.boxplot([us_data['Active']]) \n",
    "\n",
    "plt.title('Active',fontsize=15) \n",
    "\n",
    "\n",
    "plt.subplot(1,5,2) \n",
    "\n",
    "plt.boxplot([us_data['Recovered']]) \n",
    "\n",
    "plt.title('Recovered',fontsize=15) \n",
    "\n",
    "\n",
    "plt.subplot(1,5,3) \n",
    "\n",
    "plt.boxplot([us_data['Total_Test_Results']]) \n",
    "\n",
    "plt.title('Total_Test_Results',fontsize=15) \n",
    "\n",
    "plt.subplot(1,5,4) \n",
    "\n",
    "plt.boxplot([us_data['Deaths']]) \n",
    "\n",
    "plt.title('Deaths',fontsize=15) \n",
    "\n",
    "\n",
    "plt.subplot(1,5,5) \n",
    "\n",
    "plt.boxplot([us_data['Case_Fatality_Ratio']]) \n",
    "\n",
    "plt.title('Case_Fatality_Ratio',fontsize=15) "
   ]
  },
  {
   "cell_type": "code",
   "execution_count": 119,
   "metadata": {},
   "outputs": [
    {
     "data": {
      "text/plain": [
       "Index(['Province_State', 'Country_Region', 'Last_Update', 'Lat', 'Long_',\n",
       "       'Confirmed', 'Deaths', 'Recovered', 'Active', 'FIPS', 'Incident_Rate',\n",
       "       'Total_Test_Results', 'Case_Fatality_Ratio', 'UID', 'ISO3',\n",
       "       'Testing_Rate'],\n",
       "      dtype='object')"
      ]
     },
     "execution_count": 119,
     "metadata": {},
     "output_type": "execute_result"
    }
   ],
   "source": [
    "us_data.columns"
   ]
  },
  {
   "cell_type": "markdown",
   "metadata": {},
   "source": [
    "### (c) Draw histograms"
   ]
  },
  {
   "cell_type": "code",
   "execution_count": 120,
   "metadata": {},
   "outputs": [
    {
     "data": {
      "text/plain": [
       "Text(0.5, 1.0, 'Case_Fatality_Ratio')"
      ]
     },
     "execution_count": 120,
     "metadata": {},
     "output_type": "execute_result"
    },
    {
     "data": {
      "image/png": "[encoded data removed]",
      "text/plain": [
       "<Figure size 1152x360 with 5 Axes>"
      ]
     },
     "metadata": {
      "needs_background": "light"
     },
     "output_type": "display_data"
    }
   ],
   "source": [
    "plt.figure(figsize=(16,5)) \n",
    "\n",
    "  \n",
    "\n",
    "plt.subplot(1,5,1) \n",
    "\n",
    "# Creating scatter  \n",
    "\n",
    "  \n",
    "\n",
    "plt.hist([us_data['Active']]) \n",
    "\n",
    "plt.title('Active',fontsize=15) \n",
    "\n",
    "  \n",
    "\n",
    "plt.subplot(1,5,2) \n",
    "plt.hist([us_data['Recovered']]) \n",
    "plt.title('Recovered',fontsize=15) \n",
    "\n",
    "\n",
    "  \n",
    "\n",
    "plt.subplot(1,5,3) \n",
    "plt.hist([us_data['Total_Test_Results']]) \n",
    "\n",
    "plt.title('Total_Test_Results',fontsize=15) \n",
    "\n",
    "\n",
    "\n",
    "\n",
    "plt.subplot(1,5,4) \n",
    "\n",
    "plt.hist([us_data['Deaths']]) \n",
    "\n",
    "plt.title('Deaths',fontsize=15) \n",
    "\n",
    "\n",
    "plt.subplot(1,5,5) \n",
    "\n",
    "plt.hist([us_data['Case_Fatality_Ratio']]) \n",
    "\n",
    "plt.title('Case_Fatality_Ratio',fontsize=15) \n",
    "\n"
   ]
  },
  {
   "cell_type": "markdown",
   "metadata": {},
   "source": [
    "### (d) Draw a scatter plot of the data "
   ]
  },
  {
   "cell_type": "code",
   "execution_count": 121,
   "metadata": {},
   "outputs": [
    {
     "data": {
      "text/plain": [
       "Text(0.5, 1.0, 'Deaths vs Case_Fatality_Ratio ')"
      ]
     },
     "execution_count": 121,
     "metadata": {},
     "output_type": "execute_result"
    },
    {
     "data": {
      "image/png": "[encoded data removed]",
      "text/plain": [
       "<Figure size 1152x360 with 4 Axes>"
      ]
     },
     "metadata": {
      "needs_background": "light"
     },
     "output_type": "display_data"
    }
   ],
   "source": [
    "plt.figure(figsize=(16,5)) \n",
    "\n",
    "  \n",
    "\n",
    "plt.subplot(1,4,1) \n",
    "\n",
    "# Creating scatter  \n",
    "y=us_data['Deaths']\n",
    "  \n",
    "\n",
    "plt.scatter(y, us_data.Active,c='b',marker='o')\n",
    "plt.ylabel(\"Deaths\")\n",
    "plt.xlabel(\"Active\")\n",
    "plt.title('Deaths vs Active',fontsize=10)\n",
    "\n",
    "plt.subplot(1,4,2)\n",
    "plt.scatter(y,us_data.Recovered, c='r',marker='o')\n",
    "plt.xlabel(\"Recovered\")\n",
    "plt.title('Deaths vs Recovered',fontsize=10)\n",
    "\n",
    "plt.subplot(1,4,3)\n",
    "plt.scatter(y,us_data.Case_Fatality_Ratio, c='g',marker='o')\n",
    "plt.xlabel(\"Total_Test_Results\")\n",
    "plt.title('Deaths vs Total_Test_Results',fontsize=10)\n",
    "\n",
    "\n",
    "plt.subplot(1,4,4)\n",
    "plt.scatter(y,us_data.Case_Fatality_Ratio, c='orange',marker='o')\n",
    "plt.xlabel(\"Case_Fatality_Ratio\")\n",
    "plt.title('Deaths vs Case_Fatality_Ratio ',fontsize=10)"
   ]
  },
  {
   "cell_type": "markdown",
   "metadata": {},
   "source": [
    "### (e) Display simple linear regression function with a scatter plot --> You will see the data does not follow a simple linear function."
   ]
  },
  {
   "cell_type": "code",
   "execution_count": 122,
   "metadata": {},
   "outputs": [],
   "source": [
    "# Code example of load the data and prepared the data\n",
    "import matplotlib.pyplot as plt\n",
    "import numpy as np\n",
    "import pandas as pd\n",
    "import sklearn.linear_model\n"
   ]
  },
  {
   "cell_type": "code",
   "execution_count": 123,
   "metadata": {},
   "outputs": [
    {
     "data": {
      "image/png": "[encoded data removed]",
      "text/plain": [
       "<Figure size 432x288 with 1 Axes>"
      ]
     },
     "metadata": {
      "needs_background": "light"
     },
     "output_type": "display_data"
    }
   ],
   "source": [
    "X = np.c_[us_data['Total_Test_Results']]\n",
    "y = np.c_[us_data['Deaths']]\n",
    "\n",
    "# Visualize the data\n",
    "us_data.plot(kind='scatter', x=\"Total_Test_Results\", y='Deaths')\n",
    "plt.show()"
   ]
  },
  {
   "cell_type": "code",
   "execution_count": 208,
   "metadata": {},
   "outputs": [
    {
     "data": {
      "text/plain": [
       "LinearRegression()"
      ]
     },
     "execution_count": 208,
     "metadata": {},
     "output_type": "execute_result"
    }
   ],
   "source": [
    "# import model\n",
    "from sklearn.linear_model import LinearRegression\n",
    "\n",
    "# Create a simple linear regression model\n",
    "model = LinearRegression()\n",
    "\n",
    "# Train the model (we use all data for training --> Later we will divide the data into training data and testing data)\n",
    "model.fit(X,y)"
   ]
  },
  {
   "cell_type": "code",
   "execution_count": 209,
   "metadata": {},
   "outputs": [
    {
     "name": "stdout",
     "output_type": "stream",
     "text": [
      "[4762.40214541]\n",
      "-1890.9352402212498\n"
     ]
    }
   ],
   "source": [
    "print(model.coef_)\n",
    "print(model.intercept_)"
   ]
  },
  {
   "cell_type": "code",
   "execution_count": 210,
   "metadata": {},
   "outputs": [
    {
     "data": {
      "text/plain": [
       "array([1.07566486e+08])"
      ]
     },
     "execution_count": 210,
     "metadata": {},
     "output_type": "execute_result"
    }
   ],
   "source": [
    "\n",
    "X_new = [[22587]]\n",
    "\n",
    "y_predict = model.predict(X_new)\n",
    "\n",
    "y_predict"
   ]
  },
  {
   "cell_type": "code",
   "execution_count": 127,
   "metadata": {},
   "outputs": [
    {
     "data": {
      "image/png": "[encoded data removed]",
      "text/plain": [
       "<Figure size 432x288 with 1 Axes>"
      ]
     },
     "metadata": {
      "needs_background": "light"
     },
     "output_type": "display_data"
    }
   ],
   "source": [
    "# Plot scatterplot \n",
    "plt.scatter(X, y, c='red', label='COVID-19')\n",
    "plt.legend(loc='best')\n",
    "\n",
    "plt.xlabel('Total_Test_Results')\n",
    "plt.ylabel('Deaths')\n",
    "plt.title('Regression')\n",
    "\n",
    "# plot the regression function\n",
    "plt.plot(X,model.predict(X),c='g',label='fitted',linewidth=2)\n",
    "\n",
    "plt.show()"
   ]
  },
  {
   "cell_type": "code",
   "execution_count": 211,
   "metadata": {},
   "outputs": [
    {
     "name": "stdout",
     "output_type": "stream",
     "text": [
      "model coef and intercept for Active case vs death\n",
      "[[0.0151199]]\n",
      "[2912.36615947]\n",
      "model coef and intercept for Recovered case vs death\n",
      "[[0.01632695]]\n",
      "[3269.49309948]\n",
      "model coef and intercept for Total_Test_Results vs death\n",
      "[[0.00116803]]\n",
      "[785.0546778]\n",
      "model coef and intercept for Case_Fatality_Ratio vs death\n",
      "[[4762.40214541]]\n",
      "[-1890.93524022]\n"
     ]
    }
   ],
   "source": [
    "from sklearn.linear_model import LinearRegression\n",
    "\n",
    "# Create a simple linear regression model for Active\n",
    "X_Active = np.c_[us_data['Active']]\n",
    "y = np.c_[us_data['Deaths']]\n",
    "model_Active = LinearRegression()\n",
    "# Train the model (we use all data for training --> Later we will divide the data into training data and testing data)\n",
    "model_Active.fit(X_Active,y)\n",
    "print(\"model coef and intercept for Active case vs death\")\n",
    "print(model_Active.coef_)\n",
    "print(model_Active.intercept_)\n",
    "\n",
    "\n",
    "# Create a simple linear regression model for Recovered\n",
    "X_Recovered = np.c_[us_data['Recovered']]\n",
    "y = np.c_[us_data['Deaths']]\n",
    "model_Recovered = LinearRegression()\n",
    "# Train the model (we use all data for training --> Later we will divide the data into training data and testing data)\n",
    "model_Recovered.fit(X_Recovered,y)\n",
    "print(\"model coef and intercept for Recovered case vs death\")\n",
    "print(model_Recovered.coef_)\n",
    "print(model_Recovered.intercept_)\n",
    "\n",
    "\n",
    "# Create a simple linear regression model for Total_Test_Results\n",
    "X_Total_Test_Results = np.c_[us_data['Total_Test_Results']]\n",
    "y = np.c_[us_data['Deaths']]\n",
    "model_Total_Test_Results  = LinearRegression()\n",
    "# Train the model (we use all data for training --> Later we will divide the data into training data and testing data)\n",
    "model_Total_Test_Results.fit(X_Total_Test_Results,y)\n",
    "print(\"model coef and intercept for Total_Test_Results vs death\")\n",
    "print(model_Total_Test_Results.coef_)\n",
    "print(model_Total_Test_Results.intercept_)\n",
    "\n",
    "\n",
    "# Create a simple linear regression model for Case_Fatality_Ratio\n",
    "X_Case_Fatality_Ratio = np.c_[us_data['Case_Fatality_Ratio']]\n",
    "y = np.c_[us_data['Deaths']]\n",
    "model_Case_Fatality_Ratio  = LinearRegression()\n",
    "# Train the model (we use all data for training --> Later we will divide the data into training data and testing data)\n",
    "model_Case_Fatality_Ratio.fit(X_Case_Fatality_Ratio,y)\n",
    "print(\"model coef and intercept for Case_Fatality_Ratio vs death\")\n",
    "print(model_Case_Fatality_Ratio.coef_)\n",
    "print(model_Case_Fatality_Ratio.intercept_)\n"
   ]
  },
  {
   "cell_type": "code",
   "execution_count": 212,
   "metadata": {},
   "outputs": [
    {
     "data": {
      "text/plain": [
       "[<matplotlib.lines.Line2D at 0x1b363b82ee0>]"
      ]
     },
     "execution_count": 212,
     "metadata": {},
     "output_type": "execute_result"
    },
    {
     "data": {
      "image/png": "[encoded data removed]",
      "text/plain": [
       "<Figure size 1152x288 with 4 Axes>"
      ]
     },
     "metadata": {
      "needs_background": "light"
     },
     "output_type": "display_data"
    }
   ],
   "source": [
    "plt.figure(figsize=(16,4)) \n",
    "\n",
    "# Creating scatter  \n",
    "y=us_data['Deaths']\n",
    "plt.ylabel(\"Deaths\")\n",
    "\n",
    "plt.subplot(1,4,1) \n",
    "plt.scatter(X_Active, y, c='b',marker='o')\n",
    "#plt.plot(X,model.predict(X),c='g',label='fitted',linewidth=2)\n",
    "plt.xlabel(\"Active\")\n",
    "plt.title('Deaths vs Active',fontsize=10)\n",
    "plt.plot(X_Active, model_Active.predict(X_Active),c='black',label='fitted',linewidth=2)\n",
    "\n",
    "plt.subplot(1,4,2)\n",
    "plt.scatter(X_Recovered, y, c='r',marker='o')\n",
    "plt.xlabel(\"Recovered\")\n",
    "plt.title('Deaths vs Recovered',fontsize=10)\n",
    "plt.plot(X_Recovered, model_Recovered.predict(X_Recovered),c='black',label='fitted',linewidth=2)\n",
    "\n",
    "plt.subplot(1,4,3)\n",
    "plt.scatter(X_Total_Test_Results, y,c='g',marker='o')\n",
    "plt.xlabel(\"Total_Test_Results\")\n",
    "plt.title('Deaths vs Total_Test_Results Regression',fontsize=10)\n",
    "# plot the regression function\n",
    "plt.plot(X_Total_Test_Results,model_Total_Test_Results.predict(X_Total_Test_Results),c='black',label='fitted',linewidth=2)\n",
    "\n",
    "\n",
    "plt.subplot(1,4,4)\n",
    "plt.scatter(us_data.Case_Fatality_Ratio,y,c='orange',marker='o')\n",
    "plt.xlabel(\"Case_Fatality_Ratio\")\n",
    "plt.title('Deaths vs Case_Fatality_Ratio ',fontsize=10)\n",
    "plt.plot(X_Case_Fatality_Ratio,model_Case_Fatality_Ratio.predict(X_Case_Fatality_Ratio),c='black',label='fitted',linewidth=2)"
   ]
  },
  {
   "cell_type": "markdown",
   "metadata": {},
   "source": [
    "### The response variable in the model will has two potential outcomes: Death or not death\n",
    "(f) Create a logistic regression function instead of a simple linear regression. See the web resources below:\n",
    "\n",
    "from sklearn.linear_model import LogisticRegression\n",
    "This time draw a scatter plot of the data together with the logistic regression function."
   ]
  },
  {
   "cell_type": "code",
   "execution_count": 128,
   "metadata": {},
   "outputs": [
    {
     "data": {
      "text/html": [
       "<div>\n",
       "<style scoped>\n",
       "    .dataframe tbody tr th:only-of-type {\n",
       "        vertical-align: middle;\n",
       "    }\n",
       "\n",
       "    .dataframe tbody tr th {\n",
       "        vertical-align: top;\n",
       "    }\n",
       "\n",
       "    .dataframe thead th {\n",
       "        text-align: right;\n",
       "    }\n",
       "</style>\n",
       "<table border=\"1\" class=\"dataframe\">\n",
       "  <thead>\n",
       "    <tr style=\"text-align: right;\">\n",
       "      <th></th>\n",
       "      <th>Province_State</th>\n",
       "      <th>Country_Region</th>\n",
       "      <th>Last_Update</th>\n",
       "      <th>Lat</th>\n",
       "      <th>Long_</th>\n",
       "      <th>Confirmed</th>\n",
       "      <th>Deaths</th>\n",
       "      <th>Recovered</th>\n",
       "      <th>Active</th>\n",
       "      <th>FIPS</th>\n",
       "      <th>Incident_Rate</th>\n",
       "      <th>Total_Test_Results</th>\n",
       "      <th>Case_Fatality_Ratio</th>\n",
       "      <th>UID</th>\n",
       "      <th>ISO3</th>\n",
       "      <th>Testing_Rate</th>\n",
       "    </tr>\n",
       "  </thead>\n",
       "  <tbody>\n",
       "    <tr>\n",
       "      <th>0</th>\n",
       "      <td>Alabama</td>\n",
       "      <td>US</td>\n",
       "      <td>2021-01-01 05:30:27</td>\n",
       "      <td>32.3182</td>\n",
       "      <td>-86.9023</td>\n",
       "      <td>361226</td>\n",
       "      <td>4827</td>\n",
       "      <td>202137.0000</td>\n",
       "      <td>154262.0</td>\n",
       "      <td>1.0</td>\n",
       "      <td>7367.170523</td>\n",
       "      <td>1874000.0</td>\n",
       "      <td>1.336283</td>\n",
       "      <td>84000001.0</td>\n",
       "      <td>USA</td>\n",
       "      <td>38220.054923</td>\n",
       "    </tr>\n",
       "    <tr>\n",
       "      <th>1</th>\n",
       "      <td>Alaska</td>\n",
       "      <td>US</td>\n",
       "      <td>2021-01-01 05:30:27</td>\n",
       "      <td>61.3707</td>\n",
       "      <td>-152.4044</td>\n",
       "      <td>46986</td>\n",
       "      <td>206</td>\n",
       "      <td>7165.0000</td>\n",
       "      <td>39615.0</td>\n",
       "      <td>2.0</td>\n",
       "      <td>6422.844801</td>\n",
       "      <td>1275750.0</td>\n",
       "      <td>0.438428</td>\n",
       "      <td>84000002.0</td>\n",
       "      <td>USA</td>\n",
       "      <td>174391.185778</td>\n",
       "    </tr>\n",
       "    <tr>\n",
       "      <th>2</th>\n",
       "      <td>American Samoa</td>\n",
       "      <td>US</td>\n",
       "      <td>2021-01-01 05:30:27</td>\n",
       "      <td>-14.2710</td>\n",
       "      <td>-170.1320</td>\n",
       "      <td>0</td>\n",
       "      <td>0</td>\n",
       "      <td>164985.6875</td>\n",
       "      <td>0.0</td>\n",
       "      <td>60.0</td>\n",
       "      <td>0.000000</td>\n",
       "      <td>2140.0</td>\n",
       "      <td>1.649198</td>\n",
       "      <td>16.0</td>\n",
       "      <td>ASM</td>\n",
       "      <td>3846.084722</td>\n",
       "    </tr>\n",
       "    <tr>\n",
       "      <th>3</th>\n",
       "      <td>Arizona</td>\n",
       "      <td>US</td>\n",
       "      <td>2021-01-01 05:30:27</td>\n",
       "      <td>33.7298</td>\n",
       "      <td>-111.4312</td>\n",
       "      <td>520207</td>\n",
       "      <td>8864</td>\n",
       "      <td>75981.0000</td>\n",
       "      <td>435362.0</td>\n",
       "      <td>4.0</td>\n",
       "      <td>7146.960103</td>\n",
       "      <td>2834752.0</td>\n",
       "      <td>1.703937</td>\n",
       "      <td>84000004.0</td>\n",
       "      <td>USA</td>\n",
       "      <td>38945.764755</td>\n",
       "    </tr>\n",
       "    <tr>\n",
       "      <th>4</th>\n",
       "      <td>Arkansas</td>\n",
       "      <td>US</td>\n",
       "      <td>2021-01-01 05:30:27</td>\n",
       "      <td>34.9697</td>\n",
       "      <td>-92.3731</td>\n",
       "      <td>225138</td>\n",
       "      <td>3676</td>\n",
       "      <td>199247.0000</td>\n",
       "      <td>22215.0</td>\n",
       "      <td>5.0</td>\n",
       "      <td>7460.325455</td>\n",
       "      <td>2051488.0</td>\n",
       "      <td>1.632776</td>\n",
       "      <td>84000005.0</td>\n",
       "      <td>USA</td>\n",
       "      <td>67979.497674</td>\n",
       "    </tr>\n",
       "  </tbody>\n",
       "</table>\n",
       "</div>"
      ],
      "text/plain": [
       "   Province_State Country_Region          Last_Update      Lat     Long_  \\\n",
       "0         Alabama             US  2021-01-01 05:30:27  32.3182  -86.9023   \n",
       "1          Alaska             US  2021-01-01 05:30:27  61.3707 -152.4044   \n",
       "2  American Samoa             US  2021-01-01 05:30:27 -14.2710 -170.1320   \n",
       "3         Arizona             US  2021-01-01 05:30:27  33.7298 -111.4312   \n",
       "4        Arkansas             US  2021-01-01 05:30:27  34.9697  -92.3731   \n",
       "\n",
       "   Confirmed  Deaths    Recovered    Active  FIPS  Incident_Rate  \\\n",
       "0     361226    4827  202137.0000  154262.0   1.0    7367.170523   \n",
       "1      46986     206    7165.0000   39615.0   2.0    6422.844801   \n",
       "2          0       0  164985.6875       0.0  60.0       0.000000   \n",
       "3     520207    8864   75981.0000  435362.0   4.0    7146.960103   \n",
       "4     225138    3676  199247.0000   22215.0   5.0    7460.325455   \n",
       "\n",
       "   Total_Test_Results  Case_Fatality_Ratio         UID ISO3   Testing_Rate  \n",
       "0           1874000.0             1.336283  84000001.0  USA   38220.054923  \n",
       "1           1275750.0             0.438428  84000002.0  USA  174391.185778  \n",
       "2              2140.0             1.649198        16.0  ASM    3846.084722  \n",
       "3           2834752.0             1.703937  84000004.0  USA   38945.764755  \n",
       "4           2051488.0             1.632776  84000005.0  USA   67979.497674  "
      ]
     },
     "execution_count": 128,
     "metadata": {},
     "output_type": "execute_result"
    }
   ],
   "source": [
    "us_data.head()"
   ]
  },
  {
   "cell_type": "code",
   "execution_count": 129,
   "metadata": {},
   "outputs": [],
   "source": [
    "mean = us_data.Case_Fatality_Ratio.mean()"
   ]
  },
  {
   "cell_type": "code",
   "execution_count": 130,
   "metadata": {},
   "outputs": [],
   "source": [
    "df = us_data.assign(Ratio_Rank = lambda x: x['Case_Fatality_Ratio']>mean)"
   ]
  },
  {
   "cell_type": "code",
   "execution_count": 131,
   "metadata": {},
   "outputs": [
    {
     "data": {
      "text/html": [
       "<div>\n",
       "<style scoped>\n",
       "    .dataframe tbody tr th:only-of-type {\n",
       "        vertical-align: middle;\n",
       "    }\n",
       "\n",
       "    .dataframe tbody tr th {\n",
       "        vertical-align: top;\n",
       "    }\n",
       "\n",
       "    .dataframe thead th {\n",
       "        text-align: right;\n",
       "    }\n",
       "</style>\n",
       "<table border=\"1\" class=\"dataframe\">\n",
       "  <thead>\n",
       "    <tr style=\"text-align: right;\">\n",
       "      <th></th>\n",
       "      <th>Province_State</th>\n",
       "      <th>Country_Region</th>\n",
       "      <th>Last_Update</th>\n",
       "      <th>Lat</th>\n",
       "      <th>Long_</th>\n",
       "      <th>Confirmed</th>\n",
       "      <th>Deaths</th>\n",
       "      <th>Recovered</th>\n",
       "      <th>Active</th>\n",
       "      <th>FIPS</th>\n",
       "      <th>Incident_Rate</th>\n",
       "      <th>Total_Test_Results</th>\n",
       "      <th>Case_Fatality_Ratio</th>\n",
       "      <th>UID</th>\n",
       "      <th>ISO3</th>\n",
       "      <th>Testing_Rate</th>\n",
       "      <th>Ratio_Rank</th>\n",
       "    </tr>\n",
       "  </thead>\n",
       "  <tbody>\n",
       "    <tr>\n",
       "      <th>0</th>\n",
       "      <td>Alabama</td>\n",
       "      <td>US</td>\n",
       "      <td>2021-01-01 05:30:27</td>\n",
       "      <td>32.3182</td>\n",
       "      <td>-86.9023</td>\n",
       "      <td>361226</td>\n",
       "      <td>4827</td>\n",
       "      <td>202137.0000</td>\n",
       "      <td>154262.0</td>\n",
       "      <td>1.0</td>\n",
       "      <td>7367.170523</td>\n",
       "      <td>1874000.0</td>\n",
       "      <td>1.336283</td>\n",
       "      <td>84000001.0</td>\n",
       "      <td>USA</td>\n",
       "      <td>38220.054923</td>\n",
       "      <td>False</td>\n",
       "    </tr>\n",
       "    <tr>\n",
       "      <th>1</th>\n",
       "      <td>Alaska</td>\n",
       "      <td>US</td>\n",
       "      <td>2021-01-01 05:30:27</td>\n",
       "      <td>61.3707</td>\n",
       "      <td>-152.4044</td>\n",
       "      <td>46986</td>\n",
       "      <td>206</td>\n",
       "      <td>7165.0000</td>\n",
       "      <td>39615.0</td>\n",
       "      <td>2.0</td>\n",
       "      <td>6422.844801</td>\n",
       "      <td>1275750.0</td>\n",
       "      <td>0.438428</td>\n",
       "      <td>84000002.0</td>\n",
       "      <td>USA</td>\n",
       "      <td>174391.185778</td>\n",
       "      <td>False</td>\n",
       "    </tr>\n",
       "    <tr>\n",
       "      <th>2</th>\n",
       "      <td>American Samoa</td>\n",
       "      <td>US</td>\n",
       "      <td>2021-01-01 05:30:27</td>\n",
       "      <td>-14.2710</td>\n",
       "      <td>-170.1320</td>\n",
       "      <td>0</td>\n",
       "      <td>0</td>\n",
       "      <td>164985.6875</td>\n",
       "      <td>0.0</td>\n",
       "      <td>60.0</td>\n",
       "      <td>0.000000</td>\n",
       "      <td>2140.0</td>\n",
       "      <td>1.649198</td>\n",
       "      <td>16.0</td>\n",
       "      <td>ASM</td>\n",
       "      <td>3846.084722</td>\n",
       "      <td>True</td>\n",
       "    </tr>\n",
       "    <tr>\n",
       "      <th>3</th>\n",
       "      <td>Arizona</td>\n",
       "      <td>US</td>\n",
       "      <td>2021-01-01 05:30:27</td>\n",
       "      <td>33.7298</td>\n",
       "      <td>-111.4312</td>\n",
       "      <td>520207</td>\n",
       "      <td>8864</td>\n",
       "      <td>75981.0000</td>\n",
       "      <td>435362.0</td>\n",
       "      <td>4.0</td>\n",
       "      <td>7146.960103</td>\n",
       "      <td>2834752.0</td>\n",
       "      <td>1.703937</td>\n",
       "      <td>84000004.0</td>\n",
       "      <td>USA</td>\n",
       "      <td>38945.764755</td>\n",
       "      <td>True</td>\n",
       "    </tr>\n",
       "    <tr>\n",
       "      <th>4</th>\n",
       "      <td>Arkansas</td>\n",
       "      <td>US</td>\n",
       "      <td>2021-01-01 05:30:27</td>\n",
       "      <td>34.9697</td>\n",
       "      <td>-92.3731</td>\n",
       "      <td>225138</td>\n",
       "      <td>3676</td>\n",
       "      <td>199247.0000</td>\n",
       "      <td>22215.0</td>\n",
       "      <td>5.0</td>\n",
       "      <td>7460.325455</td>\n",
       "      <td>2051488.0</td>\n",
       "      <td>1.632776</td>\n",
       "      <td>84000005.0</td>\n",
       "      <td>USA</td>\n",
       "      <td>67979.497674</td>\n",
       "      <td>False</td>\n",
       "    </tr>\n",
       "  </tbody>\n",
       "</table>\n",
       "</div>"
      ],
      "text/plain": [
       "   Province_State Country_Region          Last_Update      Lat     Long_  \\\n",
       "0         Alabama             US  2021-01-01 05:30:27  32.3182  -86.9023   \n",
       "1          Alaska             US  2021-01-01 05:30:27  61.3707 -152.4044   \n",
       "2  American Samoa             US  2021-01-01 05:30:27 -14.2710 -170.1320   \n",
       "3         Arizona             US  2021-01-01 05:30:27  33.7298 -111.4312   \n",
       "4        Arkansas             US  2021-01-01 05:30:27  34.9697  -92.3731   \n",
       "\n",
       "   Confirmed  Deaths    Recovered    Active  FIPS  Incident_Rate  \\\n",
       "0     361226    4827  202137.0000  154262.0   1.0    7367.170523   \n",
       "1      46986     206    7165.0000   39615.0   2.0    6422.844801   \n",
       "2          0       0  164985.6875       0.0  60.0       0.000000   \n",
       "3     520207    8864   75981.0000  435362.0   4.0    7146.960103   \n",
       "4     225138    3676  199247.0000   22215.0   5.0    7460.325455   \n",
       "\n",
       "   Total_Test_Results  Case_Fatality_Ratio         UID ISO3   Testing_Rate  \\\n",
       "0           1874000.0             1.336283  84000001.0  USA   38220.054923   \n",
       "1           1275750.0             0.438428  84000002.0  USA  174391.185778   \n",
       "2              2140.0             1.649198        16.0  ASM    3846.084722   \n",
       "3           2834752.0             1.703937  84000004.0  USA   38945.764755   \n",
       "4           2051488.0             1.632776  84000005.0  USA   67979.497674   \n",
       "\n",
       "   Ratio_Rank  \n",
       "0       False  \n",
       "1       False  \n",
       "2        True  \n",
       "3        True  \n",
       "4       False  "
      ]
     },
     "execution_count": 131,
     "metadata": {},
     "output_type": "execute_result"
    }
   ],
   "source": [
    "df.head()"
   ]
  },
  {
   "cell_type": "code",
   "execution_count": 198,
   "metadata": {},
   "outputs": [
    {
     "data": {
      "image/png": "[encoded data removed]",
      "text/plain": [
       "<Figure size 720x432 with 1 Axes>"
      ]
     },
     "metadata": {
      "needs_background": "light"
     },
     "output_type": "display_data"
    }
   ],
   "source": [
    "# Visualize the data\n",
    "#df.plot(kind='scatter', x='Case_Fatality_Ratio',y=\"Ratio_Rank_num\")\n",
    "X = np.c_[df['Case_Fatality_Ratio']]\n",
    "y = np.c_[df['Ratio_Rank']]\n",
    "\n",
    "plt.figure(figsize=(10,6)) \n",
    "\n",
    "plt.ylabel(\"Ratio_Rank\")\n",
    "\n",
    "plt.scatter(X, y, c='b',marker='o')\n",
    "plt.xlabel(\"Case_Fatality_Ratio\")\n",
    "plt.title('Ratio_Rank_num vs Case_Fatality_Ratio',fontsize=10)\n",
    "\n",
    "plt.show()"
   ]
  },
  {
   "cell_type": "code",
   "execution_count": 140,
   "metadata": {},
   "outputs": [
    {
     "name": "stdout",
     "output_type": "stream",
     "text": [
      "<class 'pandas.core.frame.DataFrame'>\n",
      "RangeIndex: 58 entries, 0 to 57\n",
      "Data columns (total 17 columns):\n",
      " #   Column               Non-Null Count  Dtype  \n",
      "---  ------               --------------  -----  \n",
      " 0   Province_State       58 non-null     object \n",
      " 1   Country_Region       58 non-null     object \n",
      " 2   Last_Update          58 non-null     object \n",
      " 3   Lat                  58 non-null     float64\n",
      " 4   Long_                58 non-null     float64\n",
      " 5   Confirmed            58 non-null     int64  \n",
      " 6   Deaths               58 non-null     int64  \n",
      " 7   Recovered            58 non-null     float64\n",
      " 8   Active               58 non-null     float64\n",
      " 9   FIPS                 58 non-null     float64\n",
      " 10  Incident_Rate        58 non-null     float64\n",
      " 11  Total_Test_Results   58 non-null     float64\n",
      " 12  Case_Fatality_Ratio  58 non-null     float64\n",
      " 13  UID                  58 non-null     float64\n",
      " 14  ISO3                 58 non-null     object \n",
      " 15  Testing_Rate         56 non-null     float64\n",
      " 16  Ratio_Rank           58 non-null     bool   \n",
      "dtypes: bool(1), float64(10), int64(2), object(4)\n",
      "memory usage: 7.4+ KB\n"
     ]
    }
   ],
   "source": [
    "df.info()"
   ]
  },
  {
   "cell_type": "code",
   "execution_count": 141,
   "metadata": {},
   "outputs": [],
   "source": [
    "X = np.c_[df['Recovered'],df['Total_Test_Results'],df['Deaths']]\n",
    "y = np.c_[df['Ratio_Rank']]\n"
   ]
  },
  {
   "cell_type": "code",
   "execution_count": 175,
   "metadata": {},
   "outputs": [],
   "source": [
    "from sklearn.model_selection import train_test_split\n",
    "\n",
    "# split the data into training and testing (test data size 30%)\n",
    "\n",
    "X_train,X_test,y_train,y_test=train_test_split(X,y,test_size=0.3, random_state=1)"
   ]
  },
  {
   "cell_type": "code",
   "execution_count": 176,
   "metadata": {},
   "outputs": [
    {
     "name": "stderr",
     "output_type": "stream",
     "text": [
      "C:\\Users\\xiexi\\anaconda3\\lib\\site-packages\\sklearn\\utils\\validation.py:72: DataConversionWarning: A column-vector y was passed when a 1d array was expected. Please change the shape of y to (n_samples, ), for example using ravel().\n",
      "  return f(**kwargs)\n"
     ]
    },
    {
     "data": {
      "text/plain": [
       "LogisticRegression(C=0.05, multi_class='ovr', random_state=0,\n",
       "                   solver='liblinear')"
      ]
     },
     "execution_count": 176,
     "metadata": {},
     "output_type": "execute_result"
    }
   ],
   "source": [
    "# import model\n",
    "from sklearn.linear_model import LogisticRegression\n",
    "\n",
    "# instantiate a simple linear regression model \n",
    "#logreg=LogisticRegression()\n",
    "\n",
    "model = LogisticRegression(solver='liblinear', C=0.05, multi_class='ovr',\n",
    "                           random_state=0)\n",
    "model.fit(X_train, y_train)\n",
    "\n",
    "# fit the model to the training data (learn the coefficients)\n",
    "\n",
    "#logreg.fit(X_train,y_train)\n"
   ]
  },
  {
   "cell_type": "markdown",
   "metadata": {},
   "source": [
    "### the Coefficient and Intercept"
   ]
  },
  {
   "cell_type": "code",
   "execution_count": 200,
   "metadata": {},
   "outputs": [
    {
     "data": {
      "text/plain": [
       "array([[-5.45327790e-06, -2.64495267e-07,  2.31965893e-04]])"
      ]
     },
     "execution_count": 200,
     "metadata": {},
     "output_type": "execute_result"
    }
   ],
   "source": [
    "model.coef_"
   ]
  },
  {
   "cell_type": "code",
   "execution_count": 202,
   "metadata": {},
   "outputs": [
    {
     "data": {
      "text/plain": [
       "array([-1.63706849e-07])"
      ]
     },
     "execution_count": 202,
     "metadata": {},
     "output_type": "execute_result"
    }
   ],
   "source": [
    "model.intercept_"
   ]
  },
  {
   "cell_type": "code",
   "execution_count": 177,
   "metadata": {},
   "outputs": [
    {
     "name": "stderr",
     "output_type": "stream",
     "text": [
      "C:\\Users\\xiexi\\anaconda3\\lib\\site-packages\\sklearn\\utils\\validation.py:72: DataConversionWarning: A column-vector y was passed when a 1d array was expected. Please change the shape of y to (n_samples, ), for example using ravel().\n",
      "  return f(**kwargs)\n"
     ]
    },
    {
     "data": {
      "text/plain": [
       "LogisticRegression(C=0.05, multi_class='ovr', random_state=0,\n",
       "                   solver='liblinear')"
      ]
     },
     "execution_count": 177,
     "metadata": {},
     "output_type": "execute_result"
    }
   ],
   "source": [
    "model.fit(X_train, y_train)\n"
   ]
  },
  {
   "cell_type": "markdown",
   "metadata": {},
   "source": [
    "### Test Accuracy/ Train Accuracy:"
   ]
  },
  {
   "cell_type": "code",
   "execution_count": 178,
   "metadata": {},
   "outputs": [
    {
     "data": {
      "text/plain": [
       "array([False, False, False, False, False,  True, False, False, False,\n",
       "       False, False,  True,  True, False, False, False, False, False])"
      ]
     },
     "execution_count": 178,
     "metadata": {},
     "output_type": "execute_result"
    }
   ],
   "source": [
    "# make predictions on the testing set\n",
    "y_pred=model.predict(X_test)\n",
    "\n",
    "y_pred\n"
   ]
  },
  {
   "cell_type": "code",
   "execution_count": 179,
   "metadata": {},
   "outputs": [
    {
     "name": "stdout",
     "output_type": "stream",
     "text": [
      "0.75\n"
     ]
    }
   ],
   "source": [
    "print(model.score(X_train,y_train))  # training accuracy"
   ]
  },
  {
   "cell_type": "code",
   "execution_count": 180,
   "metadata": {},
   "outputs": [
    {
     "name": "stdout",
     "output_type": "stream",
     "text": [
      "0.5555555555555556\n"
     ]
    }
   ],
   "source": [
    "print(model.score(X_test,y_test)) # test accuracy"
   ]
  },
  {
   "cell_type": "code",
   "execution_count": 182,
   "metadata": {},
   "outputs": [],
   "source": [
    "from sklearn.metrics import classification_report, confusion_matrix"
   ]
  },
  {
   "cell_type": "code",
   "execution_count": 183,
   "metadata": {},
   "outputs": [
    {
     "data": {
      "text/plain": [
       "array([[7, 0],\n",
       "       [8, 3]], dtype=int64)"
      ]
     },
     "execution_count": 183,
     "metadata": {},
     "output_type": "execute_result"
    }
   ],
   "source": [
    "confusion_matrix(y_test, y_pred)"
   ]
  },
  {
   "cell_type": "code",
   "execution_count": 189,
   "metadata": {},
   "outputs": [
    {
     "name": "stdout",
     "output_type": "stream",
     "text": [
      "              precision    recall  f1-score   support\n",
      "\n",
      "       False       0.47      1.00      0.64         7\n",
      "        True       1.00      0.27      0.43        11\n",
      "\n",
      "    accuracy                           0.56        18\n",
      "   macro avg       0.73      0.64      0.53        18\n",
      "weighted avg       0.79      0.56      0.51        18\n",
      "\n"
     ]
    }
   ],
   "source": [
    "print(classification_report(y_test, y_pred))"
   ]
  },
  {
   "cell_type": "markdown",
   "metadata": {},
   "source": [
    "### Part 2: Write a summary of what you find from the data"
   ]
  },
  {
   "cell_type": "markdown",
   "metadata": {},
   "source": [
    "### Submit your summary to Canvas"
   ]
  }
 ],
 "metadata": {
  "kernelspec": {
   "display_name": "Python 3",
   "language": "python",
   "name": "python3"
  },
  "language_info": {
   "codemirror_mode": {
    "name": "ipython",
    "version": 3
   },
   "file_extension": ".py",
   "mimetype": "text/x-python",
   "name": "python",
   "nbconvert_exporter": "python",
   "pygments_lexer": "ipython3",
   "version": "3.8.3"
  }
 },
 "nbformat": 4,
 "nbformat_minor": 1
}
